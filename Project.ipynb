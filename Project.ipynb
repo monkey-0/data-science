{
 "cells": [
  {
   "cell_type": "markdown",
   "metadata": {
    "_uuid": "a22cd9684b1ccf2bf483b55f746881ebcbbcbe4c"
   },
   "source": [
    "# Problem Definition"
   ]
  },
  {
   "cell_type": "markdown",
   "metadata": {
    "_uuid": "9b15f7daa8f9c5cb04c1ff8974a9c0cefb672f6f"
   },
   "source": [
    "Sentiment analysis is a method used in natural language processing that involves taking emotions from certain raw texts. To automatically determine if certain users are favourable or negative and why, this is typically used on social media postings and consumer reviews. This project aims to demonstrate the use of Python for sentiment analysis. Here, we'll make use of some review data. One customer review constitutes each observation. Each customer review includes an overall rating and a brief description of the consumer's experience. We are attempting to determine for each textual review whether it correlates to a positive review in which the customer is satisfied or a negative review in which the consumer is dissatisfied."
   ]
  },
  {
   "cell_type": "markdown",
   "metadata": {},
   "source": [
    "# Import Libraries"
   ]
  },
  {
   "cell_type": "code",
   "execution_count": 1,
   "metadata": {},
   "outputs": [],
   "source": [
    "import string\n",
    "import pandas as pd\n",
    "import seaborn as sns\n",
    "import matplotlib.pyplot as plt\n",
    "from nltk import pos_tag\n",
    "from funcsigs import signature\n",
    "from sklearn.metrics import auc\n",
    "from nltk.corpus import wordnet\n",
    "from nltk.corpus import stopwords\n",
    "from sklearn.metrics import roc_curve\n",
    "from nltk.stem import WordNetLemmatizer\n",
    "from gensim.models.doc2vec import Doc2Vec\n",
    "from gensim.models.doc2vec import TaggedDocument\n",
    "from sklearn.feature_extraction.text import TfidfVectorizer\n",
    "from sklearn.ensemble import RandomForestClassifier\n",
    "from sklearn.model_selection import train_test_split\n",
    "from nltk.sentiment.vader import SentimentIntensityAnalyzer\n",
    "from sklearn.metrics import average_precision_score\n",
    "from sklearn.metrics import precision_recall_curve"
   ]
  },
  {
   "cell_type": "markdown",
   "metadata": {
    "_cell_guid": "79c7e3d0-c299-4dcb-8224-4455121ee9b0",
    "_uuid": "d629ff2d2480ee46fbb7e2d37f6b5fab8052498a",
    "collapsed": true
   },
   "source": [
    "# Data Mining"
   ]
  },
  {
   "cell_type": "markdown",
   "metadata": {
    "_uuid": "7c52144478e304f76ce5310ab30a72a08e0c35dd"
   },
   "source": [
    "We first start by loading the raw data. Each textual reviews is splitted into a positive part and a negative part. We group them together in order to start with only raw text data and no other information."
   ]
  },
  {
   "cell_type": "code",
   "execution_count": 2,
   "metadata": {
    "_uuid": "cb56534fa07076079598d82a2e69848802148d70"
   },
   "outputs": [],
   "source": [
    "data = pd.read_csv(\"reviews.csv\")\n",
    "data[\"text\"] = data[\"Negative\"] + data[\"Positive\"]\n",
    "data[\"category\"] = data[\"Score\"].apply(lambda x: 1 if x < 5 else 0)\n",
    "data = data[[\"text\", \"category\"]]"
   ]
  },
  {
   "cell_type": "markdown",
   "metadata": {
    "_uuid": "0f2061b96461095869fe3cbd19ae10ca9c651482"
   },
   "source": [
    "# Data Preparation"
   ]
  },
  {
   "cell_type": "markdown",
   "metadata": {
    "_uuid": "256f6d920bcb8b50725cb93488a9e7be4c772349"
   },
   "source": [
    "If the user doesn't leave any negative feedback comment, this will appear as No Negative in our data. This is the same for the positive comments with the default value No Positive. We have to remove those parts from our texts. The next step consists in cleaning the text data with various operations. To clean textual data, we call our custom 'clean_text' function that performs several transformations:\n",
    "\n",
    "- Lower the text\n",
    "- Tokenize the text and remove the punctuation\n",
    "- Remove useless words that contain numbers\n",
    "- Remove useless stop words.\n",
    "- POS tagging: assign a tag to every word to define if it corresponds to a noun, a verb etc. using the WordNet lexical database\n",
    "- Lemmatize the text: transform every word into their root form"
   ]
  },
  {
   "cell_type": "code",
   "execution_count": 3,
   "metadata": {
    "_uuid": "2d51a84a81d55c527dbd56b42201f5df3d444ce5"
   },
   "outputs": [],
   "source": [
    "def getType(position):\n",
    "    if position.startswith('J'):\n",
    "        return wordnet.ADJ\n",
    "    elif position.startswith('V'):\n",
    "        return wordnet.VERB\n",
    "    elif position.startswith('N'):\n",
    "        return wordnet.NOUN\n",
    "    elif position.startswith('R'):\n",
    "        return wordnet.ADV\n",
    "    else:\n",
    "        return wordnet.NOUN\n",
    "\n",
    "\n",
    "def mineData(line):\n",
    "    line = line.lower()\n",
    "    line = [word.strip(string.punctuation) for word in line.split(\" \")]\n",
    "    line = [word for word in line if not any(c.isdigit() for c in word)]\n",
    "    stop = stopwords.words('english')\n",
    "    line = [x for x in line if x not in stop]\n",
    "    line = [x for x in line if len(x) > 0]\n",
    "    pos_tags = pos_tag(line)\n",
    "    line = [WordNetLemmatizer().lemmatize(x[0], getType(x[1])) for x in pos_tags]\n",
    "    line = [x for x in line if len(x) > 1]\n",
    "    line = \" \".join(line)\n",
    "    return line\n",
    "\n",
    "\n",
    "data = data.sample(frac=0.1, replace=False, random_state=42)\n",
    "data[\"text\"] = data[\"text\"].apply(lambda x: x.replace(\"No Negative\", \"\").replace(\"No Positive\", \"\"))\n",
    "data[\"refined\"] = data[\"text\"].apply(lambda x: mineData(x))"
   ]
  },
  {
   "cell_type": "markdown",
   "metadata": {
    "_uuid": "79ed7c7647f7868d74bb5b3267a77914539dd61d"
   },
   "source": [
    "# Feature engineering"
   ]
  },
  {
   "cell_type": "markdown",
   "metadata": {
    "_uuid": "0c9161a58d443d38ca818ef7deb128cc92359b5c"
   },
   "source": [
    "As we may assume that client reviews are closely related to how they felt about their hotel stay, we initially implement sentiment analysis tools. We employ Vader, a sentiment analysis-focused component of the NLTK module. Vader searches through his vocabulary to determine whether words are favourable or negative. To calculate the sentiment ratings, the sentence context is also taken into consideration. Vader returns 4 values for every text:\n",
    "\n",
    "- a score for neutrality\n",
    "- a score for positivity\n",
    "- a score for negativity\n",
    "- a final score that combines the individual scores.\n",
    "\n",
    "Extraction of vector representations for each review is the next stage. By leveraging the circumstances in which they appear, the Gensim module generates a numerical vector representation of each word in the corpus. Shallow neural networks are used to carry out this. It's interesting to see that words with similar meanings will have comparable representation vectors.\n",
    "\n",
    "The term vectors may also be used to convert each paragraph into a numerical vector. We may utilise those vectors as training features because equivalent representations for the same texts will also exist. Our text data must first be used to train a Doc2Vec model. We may obtain such representation vectors by using this model on our reviews. The TF-IDF values for each word and each document are then added.\n",
    "\n",
    "But why not just keep track of how often each term appears in each document? This approach has a flaw in that it disregards the relative weight of words within the texts. A term that appears in practically all texts is unlikely to provide insightful data for analysis. On the other hand, uncommon terms could be far more ambiguous."
   ]
  },
  {
   "cell_type": "code",
   "execution_count": 4,
   "metadata": {
    "_uuid": "edbc356b3b7289c9aaafeafb41c11eb7c5a601f7"
   },
   "outputs": [],
   "source": [
    "sid = SentimentIntensityAnalyzer()\n",
    "\n",
    "data[\"tone\"] = data[\"text\"].apply(lambda x: sid.polarity_scores(x))\n",
    "data = pd.concat([data.drop(['tone'], axis=1), data['tone'].apply(pd.Series)], axis=1)\n",
    "data[\"review_split\"] = data[\"text\"].apply(lambda x: len(x))\n",
    "data[\"review\"] = data[\"text\"].apply(lambda x: len(x.split(\" \")))\n",
    "\n",
    "documents = [TaggedDocument(doc, [i]) for i, doc in enumerate(data[\"refined\"].apply(lambda x: x.split(\" \")))]\n",
    "vec_model = Doc2Vec(documents, vector_size=5, window=2, min_count=1, workers=4)\n",
    "vec = data[\"refined\"].apply(lambda x: vec_model.infer_vector(x.split(\" \"))).apply(pd.Series)\n",
    "vec.columns = [\"doc2vec_vector_\" + str(x) for x in vec.columns]\n",
    "data = pd.concat([data, vec], axis=1)\n",
    "\n",
    "frequency = TfidfVectorizer(min_df=10)\n",
    "result = frequency.fit_transform(data[\"refined\"]).toarray()\n",
    "freq_data = pd.DataFrame(result, columns=frequency.get_feature_names_out())\n",
    "freq_data.columns = [\"word_\" + str(x) for x in freq_data.columns]\n",
    "freq_data.index = data.index\n",
    "\n",
    "data = pd.concat([data, freq_data], axis=1)"
   ]
  },
  {
   "cell_type": "markdown",
   "metadata": {
    "_uuid": "fff48629c55ba10d8625ced055d92cfd0621a235"
   },
   "source": [
    "# Exploratory data analysis"
   ]
  },
  {
   "cell_type": "code",
   "execution_count": 5,
   "metadata": {
    "_uuid": "d247f98a3ae20c5b1b8227171d12ba375d548132"
   },
   "outputs": [
    {
     "data": {
      "text/html": [
       "<div>\n",
       "<style scoped>\n",
       "    .dataframe tbody tr th:only-of-type {\n",
       "        vertical-align: middle;\n",
       "    }\n",
       "\n",
       "    .dataframe tbody tr th {\n",
       "        vertical-align: top;\n",
       "    }\n",
       "\n",
       "    .dataframe thead th {\n",
       "        text-align: right;\n",
       "    }\n",
       "</style>\n",
       "<table border=\"1\" class=\"dataframe\">\n",
       "  <thead>\n",
       "    <tr style=\"text-align: right;\">\n",
       "      <th></th>\n",
       "      <th>text</th>\n",
       "      <th>pos</th>\n",
       "    </tr>\n",
       "  </thead>\n",
       "  <tbody>\n",
       "    <tr>\n",
       "      <th>43101</th>\n",
       "      <td>A perfect location comfortable great value</td>\n",
       "      <td>0.931</td>\n",
       "    </tr>\n",
       "    <tr>\n",
       "      <th>211742</th>\n",
       "      <td>Clean comfortable lovely staff</td>\n",
       "      <td>0.907</td>\n",
       "    </tr>\n",
       "    <tr>\n",
       "      <th>175551</th>\n",
       "      <td>Friendly welcome Comfortable room</td>\n",
       "      <td>0.905</td>\n",
       "    </tr>\n",
       "    <tr>\n",
       "      <th>365085</th>\n",
       "      <td>Good location great value</td>\n",
       "      <td>0.904</td>\n",
       "    </tr>\n",
       "    <tr>\n",
       "      <th>109564</th>\n",
       "      <td>Clean friendly and comfortable</td>\n",
       "      <td>0.902</td>\n",
       "    </tr>\n",
       "    <tr>\n",
       "      <th>145743</th>\n",
       "      <td>Good value amazing location</td>\n",
       "      <td>0.901</td>\n",
       "    </tr>\n",
       "    <tr>\n",
       "      <th>407590</th>\n",
       "      <td>breakfast excellent Clean comfort</td>\n",
       "      <td>0.899</td>\n",
       "    </tr>\n",
       "    <tr>\n",
       "      <th>407546</th>\n",
       "      <td>Great place I enjoyed</td>\n",
       "      <td>0.881</td>\n",
       "    </tr>\n",
       "    <tr>\n",
       "      <th>218571</th>\n",
       "      <td>Beautiful Quirky Comfortable</td>\n",
       "      <td>0.878</td>\n",
       "    </tr>\n",
       "    <tr>\n",
       "      <th>436901</th>\n",
       "      <td>Lovely comfortable rooms</td>\n",
       "      <td>0.877</td>\n",
       "    </tr>\n",
       "  </tbody>\n",
       "</table>\n",
       "</div>"
      ],
      "text/plain": [
       "                                               text    pos\n",
       "43101    A perfect location comfortable great value  0.931\n",
       "211742               Clean comfortable lovely staff  0.907\n",
       "175551            Friendly welcome Comfortable room  0.905\n",
       "365085                    Good location great value  0.904\n",
       "109564               Clean friendly and comfortable  0.902\n",
       "145743                  Good value amazing location  0.901\n",
       "407590            breakfast excellent Clean comfort  0.899\n",
       "407546                       Great place I enjoyed   0.881\n",
       "218571                Beautiful Quirky Comfortable   0.878\n",
       "436901                    Lovely comfortable rooms   0.877"
      ]
     },
     "execution_count": 5,
     "metadata": {},
     "output_type": "execute_result"
    }
   ],
   "source": [
    "data[data[\"review\"] >= 5].sort_values(\"pos\", ascending=False)[[\"text\", \"pos\"]].head(10)"
   ]
  },
  {
   "cell_type": "code",
   "execution_count": 6,
   "metadata": {
    "_uuid": "e506946236e230f419c09280cbfbcdfad35ab1a4"
   },
   "outputs": [
    {
     "data": {
      "text/html": [
       "<div>\n",
       "<style scoped>\n",
       "    .dataframe tbody tr th:only-of-type {\n",
       "        vertical-align: middle;\n",
       "    }\n",
       "\n",
       "    .dataframe tbody tr th {\n",
       "        vertical-align: top;\n",
       "    }\n",
       "\n",
       "    .dataframe thead th {\n",
       "        text-align: right;\n",
       "    }\n",
       "</style>\n",
       "<table border=\"1\" class=\"dataframe\">\n",
       "  <thead>\n",
       "    <tr style=\"text-align: right;\">\n",
       "      <th></th>\n",
       "      <th>text</th>\n",
       "      <th>neg</th>\n",
       "    </tr>\n",
       "  </thead>\n",
       "  <tbody>\n",
       "    <tr>\n",
       "      <th>193086</th>\n",
       "      <td>No dislikes LOCATION</td>\n",
       "      <td>0.831</td>\n",
       "    </tr>\n",
       "    <tr>\n",
       "      <th>356368</th>\n",
       "      <td>Nothing  Great helpful wonderful staff</td>\n",
       "      <td>0.812</td>\n",
       "    </tr>\n",
       "    <tr>\n",
       "      <th>318516</th>\n",
       "      <td>A disaster  Nothing</td>\n",
       "      <td>0.804</td>\n",
       "    </tr>\n",
       "    <tr>\n",
       "      <th>458794</th>\n",
       "      <td>Nothing Excellent friendly helpful staff</td>\n",
       "      <td>0.799</td>\n",
       "    </tr>\n",
       "    <tr>\n",
       "      <th>29666</th>\n",
       "      <td>A bit noisy No</td>\n",
       "      <td>0.796</td>\n",
       "    </tr>\n",
       "    <tr>\n",
       "      <th>426057</th>\n",
       "      <td>Dirty hotel Smells bad</td>\n",
       "      <td>0.762</td>\n",
       "    </tr>\n",
       "    <tr>\n",
       "      <th>263187</th>\n",
       "      <td>Very bad service No</td>\n",
       "      <td>0.758</td>\n",
       "    </tr>\n",
       "    <tr>\n",
       "      <th>443796</th>\n",
       "      <td>Nothing  perfect</td>\n",
       "      <td>0.750</td>\n",
       "    </tr>\n",
       "    <tr>\n",
       "      <th>181508</th>\n",
       "      <td>Window blind was broken</td>\n",
       "      <td>0.744</td>\n",
       "    </tr>\n",
       "    <tr>\n",
       "      <th>175316</th>\n",
       "      <td>Nothing Super friendly staff</td>\n",
       "      <td>0.743</td>\n",
       "    </tr>\n",
       "  </tbody>\n",
       "</table>\n",
       "</div>"
      ],
      "text/plain": [
       "                                             text    neg\n",
       "193086                      No dislikes LOCATION   0.831\n",
       "356368    Nothing  Great helpful wonderful staff   0.812\n",
       "318516                        A disaster  Nothing  0.804\n",
       "458794   Nothing Excellent friendly helpful staff  0.799\n",
       "29666                              A bit noisy No  0.796\n",
       "426057                     Dirty hotel Smells bad  0.762\n",
       "263187                        Very bad service No  0.758\n",
       "443796                          Nothing  perfect   0.750\n",
       "181508                    Window blind was broken  0.744\n",
       "175316               Nothing Super friendly staff  0.743"
      ]
     },
     "execution_count": 6,
     "metadata": {},
     "output_type": "execute_result"
    }
   ],
   "source": [
    "data[data[\"review\"] >= 5].sort_values(\"neg\", ascending=False)[[\"text\", \"neg\"]].head(10)"
   ]
  },
  {
   "cell_type": "code",
   "execution_count": 8,
   "metadata": {
    "_uuid": "efd086062b8ded2dd18515d66048416e7b979a5c"
   },
   "outputs": [
    {
     "data": {
      "image/png": "[encoded data removed]",
      "text/plain": [
       "<Figure size 640x480 with 1 Axes>"
      ]
     },
     "metadata": {},
     "output_type": "display_data"
    }
   ],
   "source": [
    "for x in [0, 1]:\n",
    "    subset = data[data['category'] == x]\n",
    "    if x == 0:\n",
    "        label = \"Good reviews\"\n",
    "    else:\n",
    "        label = \"Bad reviews\"\n",
    "    sns.kdeplot(subset['compound'], label=label)"
   ]
  },
  {
   "cell_type": "markdown",
   "metadata": {
    "_uuid": "6792e4ff851b10ce6e0dc46bb8b81e066a6026e7"
   },
   "source": [
    "# Model Building"
   ]
  },
  {
   "cell_type": "code",
   "execution_count": 9,
   "metadata": {
    "_uuid": "5176528611b2a898af937dedfdb89661d9fd1870"
   },
   "outputs": [],
   "source": [
    "label = \"category\"\n",
    "left = [label, \"text\", \"refined\"]\n",
    "features = [c for c in data.columns if c not in left]\n",
    "\n",
    "X_train, X_test, y_train, y_test = train_test_split(data[features], data[label], test_size=0.20, random_state=42)\n",
    "\n",
    "forest_model = RandomForestClassifier(n_estimators = 100, random_state = 42)\n",
    "forest_model.fit(X_train, y_train)\n",
    "forest_data = pd.DataFrame({\"feature\": features, \"importance\": forest_model.feature_importances_})\\\n",
    "    .sort_values(\"importance\", ascending=False)\n",
    "forest_data.head(20)\n",
    "y_pred = [x[1] for x in forest_model.predict_proba(X_test)]"
   ]
  },
  {
   "cell_type": "markdown",
   "metadata": {},
   "source": [
    "# Model Evaluation"
   ]
  },
  {
   "cell_type": "code",
   "execution_count": 10,
   "metadata": {
    "_uuid": "ce77133401f4c7862f7aa28c7f879217f382f93a"
   },
   "outputs": [
    {
     "data": {
      "text/plain": [
       "(0.0, 1.0)"
      ]
     },
     "execution_count": 10,
     "metadata": {},
     "output_type": "execute_result"
    },
    {
     "data": {
      "image/png": "[encoded data removed]",
      "text/plain": [
       "<Figure size 1500x1000 with 1 Axes>"
      ]
     },
     "metadata": {},
     "output_type": "display_data"
    }
   ],
   "source": [
    "mean_precision = average_precision_score(y_test, y_pred)\n",
    "precision, recall, _ = precision_recall_curve(y_test, y_pred)\n",
    "args = ({'step': 'post'} if 'step' in signature(plt.fill_between).parameters else {})\n",
    "plt.figure(1, figsize=(15, 10))\n",
    "plt.step(recall, precision, color='b', alpha=0.2, where='post')\n",
    "plt.fill_between(recall, precision, alpha=0.2, color='b', **args)\n",
    "plt.xlabel('Recall')\n",
    "plt.ylabel('Precision')\n",
    "plt.ylim([0.0, 1.05])\n",
    "plt.xlim([0.0, 1.0])"
   ]
  },
  {
   "cell_type": "markdown",
   "metadata": {
    "_uuid": "1459faf9b176c226ce05ad23e4bee5832dfcba77"
   },
   "source": [
    "# Conclusion"
   ]
  },
  {
   "cell_type": "markdown",
   "metadata": {
    "_uuid": "1869399f441d068dfdafaf1eb6b8710a0a58dd59"
   },
   "source": [
    "It is entirely feasible to generate predictions using simply raw text as the input. The ability to extract the pertinent information from this raw data source is of utmost importance. In data science projects, this sort of data is frequently a useful supplementary source that may be used to extract more learning characteristics and boost the prediction capability of the models. The AUC PR Area Under the Curve Precision Recall, also known as Average Precision, is a superior statistic in this unbalanced circumstance.\n",
    "\n",
    "We may observe that when recall is raised, accuracy falls. This demonstrates that we must select a prediction threshold that meets our requirements.If a high recall is what we're after, we should choose a low prediction threshold that will let us detect the majority of positive class observations with just moderate accuracy. Instead, we should select a high threshold that will give us a high accuracy and a low recall if we want to be highly sure in our predictions but don't care if we don't locate all the positive observations.\n",
    "\n",
    "We just need to utilise the AP measure to determine whether our model outperforms another classifier. We may contrast our model with a straightforward decision baseline to determine its quality.As a starting point, let's use a random classifier, which would predict the label with a 50/50 probability of 1 and 0.\n",
    "\n",
    "A classifier with this level of precision would have a positive observation rate of 4.3%. The accuracy would remain constant for any recall value, giving us an AP of 0.043. Our model's apparent power (AP) is around 0.35, which is more than 8 times more than the apparent power of the random technique. This demonstrates the strong predictive capability of our model."
   ]
  },
  {
   "cell_type": "code",
   "execution_count": null,
   "metadata": {
    "_uuid": "fd65c8f4e60ac6fddc80f1b3a88476fdc28b1cee"
   },
   "outputs": [],
   "source": []
  }
 ],
 "metadata": {
  "kernelspec": {
   "display_name": "Python 3 (ipykernel)",
   "language": "python",
   "name": "python3"
  },
  "language_info": {
   "codemirror_mode": {
    "name": "ipython",
    "version": 3
   },
   "file_extension": ".py",
   "mimetype": "text/x-python",
   "name": "python",
   "nbconvert_exporter": "python",
   "pygments_lexer": "ipython3",
   "version": "3.9.10"
  }
 },
 "nbformat": 4,
 "nbformat_minor": 1
}
